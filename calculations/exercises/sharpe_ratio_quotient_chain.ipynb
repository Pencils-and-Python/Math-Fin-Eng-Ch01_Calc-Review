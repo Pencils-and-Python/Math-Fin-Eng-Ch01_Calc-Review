{
 "cells": [
  {
   "metadata": {},
   "cell_type": "markdown",
   "source": [
    "# 🧮 Calculus in Finance: Sharpe Ratio Derivative\n",
    "\n",
    "In this problem, we’ll differentiate a Sharpe Ratio function using both the **Quotient Rule** and the **Chain Rule**.\n",
    "\n",
    "## 📈 Problem Statement\n",
    "\n",
    "The Sharpe Ratio \\( S(x) \\) of a portfolio is modeled as a function of allocation \\( x \\in (0, 1] \\) to a risky asset:\n",
    "\n",
    "$\n",
    "S(x) = \\frac{R(x) - R_f}{\\sigma(x)}\n",
    "$\n",
    "\n",
    "Where:\n",
    "\n",
    "- $( R(x) = 0.05 + 0.1\\ln(x + 1) $):  Expected return of the portfolio (could be a function of allocation (x)\n",
    "- $( R_f = 0.03 $): Risk-free rate\n",
    "- $( \\sigma(x) = \\sqrt{0.04x^2 + 0.01} $): Portfolio standard deviation (i.e., risk)\n",
    "\n",
    "---\n",
    "\n",
    "## 🧠 Task\n",
    "\n",
    "Find the derivative \\( S'(x) \\) using:\n",
    "\n",
    "- The **Quotient Rule**, since \\( S(x) \\) is a ratio of functions\n",
    "- The **Chain Rule**, for:\n",
    "  - $( f(x) = R(x) - R_f = 0.05 + 0.1\\ln(x + 1) - 0.03 $)\n",
    "  - $( g(x) = \\sigma(x) = \\sqrt{0.04x^2 + 0.01} $)\n",
    "\n",
    "---\n",
    "\n",
    "## 📘 Formula Reminders\n",
    "\n",
    "### Quotient Rule:\n",
    "\n",
    "$\n",
    "\\left( \\frac{f(x)}{g(x)} \\right)' = \\frac{f'(x)g(x) - f(x)g'(x)}{g(x)^2}\n",
    "$\n",
    "\n",
    "### Chain Rule (for composite functions):\n",
    "\n",
    "- For $( h(x) = \\ln(x + 1) $), $( h'(x) = \\frac{1}{x + 1} $)\n",
    "- For $( \\sigma(x) = \\sqrt{u(x)} $), where $( u(x) = 0.04x^2 + 0.01 $), we apply the chain rule:\n",
    "  $\n",
    "  \\frac{d}{dx} \\sqrt{u(x)} = \\frac{1}{2\\sqrt{u(x)}} \\cdot u'(x)\n",
    "  $\n",
    "\n",
    "---\n",
    "\n",
    "## 📝 Bonus\n",
    "\n",
    "Once you’ve computed \\( S'(x) \\), evaluate it at a specific allocation like \\( x = 0.5 \\) to interpret how the Sharpe Ratio is changing with respect to your portfolio allocation.\n",
    "\n"
   ],
   "id": "9c970dc4af899d56"
  },
  {
   "metadata": {},
   "cell_type": "code",
   "outputs": [],
   "execution_count": null,
   "source": "",
   "id": "2ac5a55cd902827b"
  }
 ],
 "metadata": {
  "kernelspec": {
   "display_name": "Python 3",
   "language": "python",
   "name": "python3"
  },
  "language_info": {
   "codemirror_mode": {
    "name": "ipython",
    "version": 2
   },
   "file_extension": ".py",
   "mimetype": "text/x-python",
   "name": "python",
   "nbconvert_exporter": "python",
   "pygments_lexer": "ipython2",
   "version": "2.7.6"
  }
 },
 "nbformat": 4,
 "nbformat_minor": 5
}

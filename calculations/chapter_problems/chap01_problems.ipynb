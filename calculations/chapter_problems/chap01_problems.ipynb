{
 "cells": [
  {
   "cell_type": "code",
   "execution_count": 2,
   "id": "5f3782c3-4258-4bba-a5de-914ee7e2b8a6",
   "metadata": {},
   "outputs": [],
   "source": [
    "import sympy as sp\n",
    "import math\n",
    "from scipy.integrate import quad\n",
    "import matplotlib.pyplot as plt\n",
    "import numpy as np"
   ]
  },
  {
   "cell_type": "markdown",
   "id": "c601e6ab-df39-40ae-9973-9734331e3e29",
   "metadata": {},
   "source": [
    "# Calculus Review\n",
    "\n",
    "## Chapter 01\n",
    "\n",
    "### Options. Put-Call parity\n",
    "\n",
    "**Overview**\n",
    "Differentiation\n",
    "- Product Rule\n",
    "- Quotient Rule\n",
    "- Chain Rule\n",
    "\n",
    "Integration\n",
    "- Fundamental Theorem of Calculus\n",
    "- Integration by Parts\n",
    "- Integation by substitution (a.k.a. U Substitution)"
   ]
  },
  {
   "cell_type": "markdown",
   "id": "8144c064-dd29-45cc-abd7-291acb2eac5b",
   "metadata": {},
   "source": [
    "## Brief Review of Differentiation\n",
    "\n",
    "**Definition (Derivative):**  \n",
    "The derivative of a function \\( f(x) \\) at a point \\( x = a \\) represents the instantaneous rate of change of the function with respect to \\( x \\) at that point. It is defined as the limit of the average rate of change as the interval approaches zero.\n",
    "\n",
    "\\[\n",
    "f'(a) = \\lim_{h \\to 0} \\frac{f(a + h) - f(a)}{h}\n",
    "\\]\n",
    "\n",
    "\n",
    "**Theorem 1.1 (Product Rule)**  \n",
    "Let \\( f(x) \\) and \\( g(x) \\) be differentiable functions. Then:\n",
    "\\[\n",
    "\\frac{d}{dx}[f(x)g(x)] = f'(x)g(x) + f(x)g'(x)\n",
    "\\]\n",
    "\n",
    "**Theorem 1.2 (Quotient Rule)**  \n",
    "Let \\( f(x) \\) and \\( g(x) \\) be differentiable, and \\( g(x) \\neq 0 \\). Then:\n",
    "\\[\n",
    "\\frac{d}{dx} \\left[ \\frac{f(x)}{g(x)} \\right] = \\frac{f'(x)g(x) - f(x)g'(x)}{[g(x)]^2}\n",
    "\\]\n",
    "\n",
    "**Theorem 1.3 (Chain Rule)**  \n",
    "If \\( f \\) and \\( g \\) are differentiable, then:\n",
    "\\[\n",
    "\\frac{d}{dx} f(g(x)) = f'(g(x)) \\cdot g'(x)\n",
    "\\]\n"
   ]
  },
  {
   "cell_type": "code",
   "execution_count": null,
   "id": "08c5672a-1158-4f21-bc5b-f4cb30748fdb",
   "metadata": {},
   "outputs": [],
   "source": []
  }
 ],
 "metadata": {
  "kernelspec": {
   "display_name": "Python 3 (ipykernel)",
   "language": "python",
   "name": "python3"
  },
  "language_info": {
   "codemirror_mode": {
    "name": "ipython",
    "version": 3
   },
   "file_extension": ".py",
   "mimetype": "text/x-python",
   "name": "python",
   "nbconvert_exporter": "python",
   "pygments_lexer": "ipython3",
   "version": "3.12.2"
  }
 },
 "nbformat": 4,
 "nbformat_minor": 5
}

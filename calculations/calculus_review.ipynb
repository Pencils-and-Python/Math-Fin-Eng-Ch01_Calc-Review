{
 "cells": [
  {
   "cell_type": "code",
   "execution_count": 24,
   "id": "9c72d3c0-94d0-47dc-9d3c-62ef5afc6e6b",
   "metadata": {},
   "outputs": [],
   "source": [
    "import sympy as sp\n",
    "import math\n",
    "from scipy.integrate import quad\n",
    "import matplotlib.pyplot as plt\n",
    "import numpy as np\n"
   ]
  },
  {
   "cell_type": "markdown",
   "id": "db6d5430-fc1b-47e1-aee4-1e625dfe7ab6",
   "metadata": {},
   "source": [
    "## Integration By Parts\n",
    "\n",
    "**Evaluate:**\n",
    "$$\\int_0^2 x e^x dx$$\n"
   ]
  },
  {
   "cell_type": "code",
   "execution_count": 16,
   "id": "e5790fc1-7430-4972-a49b-bdff9c7be4c4",
   "metadata": {},
   "outputs": [
    {
     "name": "stdout",
     "output_type": "stream",
     "text": [
      "Exact symbolic result: 1 + exp(2)\n",
      "Which is approximately: 8.38905609893065\n"
     ]
    }
   ],
   "source": [
    "# Integration through sympy\n",
    "\n",
    "# Define variable and expression\n",
    "x = sp.symbols('x')\n",
    "expr = x * sp.ln(x)\n",
    "\n",
    "# Definite integral from 0 to 2\n",
    "result = sp.integrate(expr, (x, 0, 2))\n",
    "\n",
    "# Print symbolic result\n",
    "print(f\"Exact symbolic result: {result}\")\n",
    "\n",
    "# Check if exp is part of the result (as a symbol)\n",
    "if result.atoms(sp.exp):\n",
    "    print(f\"Which is approximately: {result.evalf()}\")\n"
   ]
  },
  {
   "cell_type": "code",
   "execution_count": 13,
   "id": "28fd9027-37f1-4684-b7a9-b14cb6c36a56",
   "metadata": {},
   "outputs": [
    {
     "name": "stdout",
     "output_type": "stream",
     "text": [
      "Approximate integral: 8.38906\n"
     ]
    }
   ],
   "source": [
    "def f(x):\n",
    "    return x * math.exp(x)\n",
    "\n",
    "def trapezoidal_rule(a, b, n):\n",
    "    h = (b - a) / n\n",
    "    total = 0.5 * (f(a) + f(b))\n",
    "    for i in range(1, n):\n",
    "        total += f(a + i * h)\n",
    "    return total * h\n",
    "\n",
    "# Try with 1000 slices\n",
    "approx = trapezoidal_rule(0, 2, 1000)\n",
    "print(f\"Approximate integral: {approx:.5f}\")"
   ]
  },
  {
   "cell_type": "code",
   "execution_count": 14,
   "id": "a43c31b8-6f04-45ac-af73-2dffaab635e1",
   "metadata": {},
   "outputs": [
    {
     "name": "stdout",
     "output_type": "stream",
     "text": [
      "Integral ≈ 8.38906, with error estimate 9.31e-14\n"
     ]
    }
   ],
   "source": [
    "\n",
    "\n",
    "# Define the function\n",
    "def f(x):\n",
    "    return x * math.exp(x)\n",
    "\n",
    "# Integrate from 0 to 2\n",
    "result, error = quad(f, 0, 2)\n",
    "\n",
    "print(f\"Integral ≈ {result:.5f}, with error estimate {error:.2e}\")"
   ]
  },
  {
   "cell_type": "markdown",
   "id": "ef422cea-9fc4-496e-af22-afdc8e04b16e",
   "metadata": {},
   "source": [
    "## More Integration by Parts Practice\n",
    "\n",
    "**Evaluate:**\n",
    "\n",
    "$$\\int_0^2 x * ln (x) dx$$"
   ]
  },
  {
   "cell_type": "code",
   "execution_count": 19,
   "id": "f44060da-db10-4c1c-8e69-edd6308206d8",
   "metadata": {},
   "outputs": [
    {
     "name": "stdout",
     "output_type": "stream",
     "text": [
      "Exact symbolic result: -3/4 + 2*log(2)\n",
      "Which is approximately: 0.636294361119891\n"
     ]
    }
   ],
   "source": [
    "# Integration by parts practice\n",
    "\n",
    "# Define variable and expression\n",
    "x = sp.symbols('x')\n",
    "expr = x * sp.ln(x)\n",
    "\n",
    "# Definite integral from 1 to 2\n",
    "result = sp.integrate(expr, (x, 1, 2))\n",
    "\n",
    "# Print symbolic result\n",
    "print(f\"Exact symbolic result: {result}\")\n",
    "print(f\"Which is approximately: {result.evalf()}\")\n",
    "                \n"
   ]
  },
  {
   "cell_type": "markdown",
   "id": "a501cd60-231a-4877-92ac-0da4cfc569ee",
   "metadata": {},
   "source": [
    "## Integrations by parts practice \n",
    "\n",
    "**Evaluate:**\n",
    "$$\\int_3^8 1/(x * ln x) dx$$"
   ]
  },
  {
   "cell_type": "code",
   "execution_count": 20,
   "id": "176ca65e-65fd-417b-b409-7d089974f2ce",
   "metadata": {},
   "outputs": [
    {
     "name": "stdout",
     "output_type": "stream",
     "text": [
      "Exact symbolic result: -log(log(3)) + log(log(8))\n",
      "Which is approximately: 0.638051540469746\n"
     ]
    }
   ],
   "source": [
    "# U Substituion Integration\n",
    "\n",
    "# Define variable and expression\n",
    "x = sp.symbols('x')\n",
    "expr = 1/(x * sp.ln(x))\n",
    "\n",
    "# Definite integral from 3 to 8\n",
    "result = sp.integrate(expr, (x, 3, 8))\n",
    "\n",
    "# Print symbolic result\n",
    "print(f\"Exact symbolic result: {result}\")\n",
    "print(f\"Which is approximately: {result.evalf()}\")\n",
    "\n",
    "          "
   ]
  },
  {
   "cell_type": "markdown",
   "id": "d718255b-eabb-41c1-8bc6-1f3219e3b3e8",
   "metadata": {},
   "source": [
    "## Function to Define, Evaluate, and Plot\n",
    "\n",
    "We define the function $f(x) = \\frac{1}{x \\ln(x)}$ to evaluate the integral.\n"
   ]
  },
  {
   "cell_type": "code",
   "execution_count": 22,
   "id": "62cf725f-84a2-4005-b7e7-051b6e1778c7",
   "metadata": {},
   "outputs": [],
   "source": [
    "x = sp.symbols('x')\n",
    "expr = 1 / (x * sp.ln(x))\n",
    "f = sp.lambdify(x, expr, 'numpy')  # This creates a NumPy-compatible version\n"
   ]
  },
  {
   "cell_type": "code",
   "execution_count": 25,
   "id": "f50a665b-b68e-40f8-8aee-cb3baf5b588f",
   "metadata": {},
   "outputs": [],
   "source": [
    "x_vals = np.linspace(3, 8, 500) # This provides 500 points between 3 and 8\n",
    "y_vals = f(x_vals)\n"
   ]
  },
  {
   "cell_type": "code",
   "execution_count": 26,
   "id": "f3f12783-603d-4bff-adaa-8657d8794017",
   "metadata": {},
   "outputs": [
    {
     "data": {
      "image/png": "[encoded data removed]",
      "text/plain": [
       "<Figure size 1000x600 with 1 Axes>"
      ]
     },
     "metadata": {},
     "output_type": "display_data"
    }
   ],
   "source": [
    "plt.figure(figsize=(10, 6))\n",
    "\n",
    "# Plot the curve\n",
    "plt.plot(x_vals, y_vals, label=r'$f(x) = \\frac{1}{x \\ln(x)}$', color='blue')\n",
    "\n",
    "# Fill the area under the curve\n",
    "plt.fill_between(x_vals, y_vals, alpha=0.3, color='skyblue', label='Area under curve')\n",
    "\n",
    "# Annotations and labels\n",
    "plt.title('Definite Integral of $\\\\frac{1}{x \\\\ln(x)}$ from 3 to 8')\n",
    "plt.xlabel('x')\n",
    "plt.ylabel('f(x)')\n",
    "plt.legend()\n",
    "plt.grid(True)\n",
    "plt.show()\n"
   ]
  },
  {
   "cell_type": "code",
   "execution_count": null,
   "id": "a89fe58f-eb03-47e2-ae37-fe8a0a45140d",
   "metadata": {},
   "outputs": [],
   "source": []
  }
 ],
 "metadata": {
  "kernelspec": {
   "display_name": "Python 3 (ipykernel)",
   "language": "python",
   "name": "python3"
  },
  "language_info": {
   "codemirror_mode": {
    "name": "ipython",
    "version": 3
   },
   "file_extension": ".py",
   "mimetype": "text/x-python",
   "name": "python",
   "nbconvert_exporter": "python",
   "pygments_lexer": "ipython3",
   "version": "3.12.2"
  }
 },
 "nbformat": 4,
 "nbformat_minor": 5
}
